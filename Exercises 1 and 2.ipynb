{
 "cells": [
  {
   "cell_type": "code",
   "execution_count": 9,
   "metadata": {},
   "outputs": [],
   "source": [
    "from gremlin_python import statics\n",
    "from gremlin_python.structure.graph import Graph\n",
    "from gremlin_python.process.graph_traversal import __\n",
    "from gremlin_python.process.strategies import *\n",
    "from gremlin_python.driver.driver_remote_connection import DriverRemoteConnection"
   ]
  },
  {
   "cell_type": "code",
   "execution_count": 10,
   "metadata": {},
   "outputs": [],
   "source": [
    "graph = Graph()\n",
    "connection = DriverRemoteConnection('ws://localhost:8182/gremlin', 'g')\n",
    "# The connection should be closed on shut down to close open connections with connection.close()\n",
    "g = graph.traversal().withRemote(connection)\n",
    "# Reuse 'g' across the application"
   ]
  },
  {
   "cell_type": "code",
   "execution_count": 11,
   "metadata": {},
   "outputs": [
    {
     "data": {
      "text/plain": [
       "[['V'], ['drop'], ['none'], ['values', '_ipython_canary_method_should_not_exist_'], ['values', '_ipython_canary_method_should_not_exist_']]"
      ]
     },
     "execution_count": 11,
     "metadata": {},
     "output_type": "execute_result"
    }
   ],
   "source": [
    "# added to start from a fresh graph with no nodes or edges\n",
    "g.V().drop().iterate()"
   ]
  },
  {
   "cell_type": "markdown",
   "metadata": {},
   "source": [
    "# Exercise 1"
   ]
  },
  {
   "cell_type": "code",
   "execution_count": 12,
   "metadata": {},
   "outputs": [],
   "source": [
    "'''Function to create a new node if it doesn't exist,\n",
    "and get the vertex if already present in the graph'''\n",
    "def getOrCreate(name):\n",
    "    # Treating None as no node/relationship in the graph\n",
    "    if name == 'None':\n",
    "        return None\n",
    "    # Getting vertex if already present\n",
    "    vertex = g.V().has(name, 'name', name).toList()\n",
    "    if len(vertex) != 0:\n",
    "        return vertex[0]\n",
    "    \n",
    "    # Creating vertex if not present with property 'name'\n",
    "    return g.addV(name).property('name', name).next()"
   ]
  },
  {
   "cell_type": "code",
   "execution_count": 13,
   "metadata": {
    "scrolled": false
   },
   "outputs": [],
   "source": [
    "'''Creating the graph from alerts.csv'''\n",
    "with open('data/alerts.csv', 'r') as file:\n",
    "    for line in file:\n",
    "        # CSV is comma delimited\n",
    "        columns = line.strip().split(',')\n",
    "        \n",
    "        # Getting vertices corresponding to the columns in the CSV\n",
    "        v1 = getOrCreate(columns[0])\n",
    "        v2 = getOrCreate(columns[1])\n",
    "        v3 = getOrCreate(columns[2])\n",
    "        \n",
    "        # Creating the edge between the first and second column\n",
    "        e1 = g.V(v2).addE('is').to(v1).property('type', 'is').iterate()\n",
    "        \n",
    "        # Some vertices in the third column are None indicating no relationship\n",
    "        # Edges are being created only when the vertex in the third column is Not None\n",
    "        # Condition applied only for third node but is easily extendible to all nodes if the contain None\n",
    "        if v3 != None:\n",
    "            e2 = g.V(v3).addE('is').to(v1).property('type', 'is').iterate()\n",
    "            e3 = g.V(v2).addE('knows').to(v3).property('type', 'knows').iterate()"
   ]
  },
  {
   "cell_type": "markdown",
   "metadata": {},
   "source": [
    "# Exercise 2"
   ]
  },
  {
   "cell_type": "code",
   "execution_count": 14,
   "metadata": {},
   "outputs": [],
   "source": [
    "# List of vertices to iterate over\n",
    "verticesList = g.V().valueMap().toList()"
   ]
  },
  {
   "cell_type": "code",
   "execution_count": 134,
   "metadata": {},
   "outputs": [],
   "source": [
    "'''The solutions are written to a file named exercise2.txt'''\n",
    "with open('exercise2.txt', 'w') as file:\n",
    "    \n",
    "    file.write(\"QUERY 1:\\n\")\n",
    "    \n",
    "    for vertex in verticesList:\n",
    "        nodeName = vertex['name'][0]\n",
    "        \n",
    "        # Getting degree (in)\n",
    "        inDegree = g.V().has(nodeName, 'name', nodeName).inE().count().toList()[0]\n",
    "        \n",
    "        # Getting degree (out)\n",
    "        outDegree = g.V().has(nodeName, 'name', nodeName).outE().count().toList()[0]\n",
    "        \n",
    "        #Getting degree (in/out)\n",
    "        # overallDegree = g.V().has(nodeName, 'name', nodeName).both().count()\n",
    "        # More efficient to just add the inDegree and outDegree\n",
    "        overallDegree = inDegree + outDegree\n",
    "        file.write(\"For node {:20s}\\n\".format(nodeName))\n",
    "        file.write(\"In degree      -> {:20s}\\n\".format(str(inDegree)))\n",
    "        file.write(\"Out degree     -> {:20s}\\n\".format(str(outDegree)))\n",
    "        file.write(\"Overall degree -> {:20s}\\n\".format(str(overallDegree)))\n",
    "\n",
    "    file.write(\"\\n\\n\")    \n",
    "    file.write(\"*\"*40)\n",
    "    file.write(\"\\n\\n\")\n",
    "    \n",
    "    file.write(\"QUERY 2:\\n\")\n",
    "    \n",
    "    # Initializing the max length and vertex the maximum chain length belongs to\n",
    "    maximumChainLength = 0\n",
    "    maximumChainVertex = ''\n",
    "    \n",
    "    for vertex in verticesList:\n",
    "        \n",
    "        nodeName = vertex['name'][0]\n",
    "        \n",
    "        # The last path emited is the longest path for that node\n",
    "        # The chain count is a combination of the vertex count and the edge count\n",
    "        # This was done to print not just the vertex but also the relationship between the vertex\n",
    "        # Easily changable to get only the vertex count\n",
    "        longestChainLength = g.V().has(nodeName, 'name',nodeName).repeat(__.inE().outV()).emit().tail().path().unfold().count().toList()[0]\n",
    "        \n",
    "        # The longest chain length for each Node is written\n",
    "        file.write(\"For node {:20s}\\n\".format(nodeName))\n",
    "        file.write(\"Longest Chain for this Node -> {}\\n\".format(longestChainLength))\n",
    "        \n",
    "        # Finding the maximum chain length, and the vertex that chain belongs to\n",
    "        if longestChainLength >= maximumChainLength:\n",
    "            maximumChainLength = longestChainLength\n",
    "            maximumChainVertex = nodeName\n",
    "            \n",
    "    file.write(\"*\"*20)\n",
    "    file.write(\"\\nLongest Chain   -> {}\\n\".format(maximumChainLength))\n",
    "    file.write(\"Longest Path:\\n\")\n",
    "    \n",
    "    # There can be multiple paths that have the maximum length, to get all those chains\n",
    "    # All chains or paths of the vertex is iterated through\n",
    "    for path in g.V().has(maximumChainVertex, 'name', maximumChainVertex).repeat(\n",
    "        __.inE().outV()).emit().path().by(__.label()).toList():\n",
    "        \n",
    "        # When the length of that path matches the maximum length calculated above\n",
    "        # The path is written to the file as the solution\n",
    "        if len(path) == maximumChainLength:\n",
    "            for node in path:\n",
    "                file.write(\"{} \".format(node))\n",
    "                file.write(\"<- \")\n",
    "            file.write(\"start\\n\")\n",
    "    \n",
    "    \n",
    "    file.write(\"\\n\\n\")    \n",
    "    file.write(\"*\"*40)\n",
    "    file.write(\"\\n\\n\")\n",
    "    \n",
    "    file.write(\"QUERY 3:\\n\")\n",
    "    \n",
    "    # Finding the number of vertices connected to 'ztf4' node\n",
    "    connectedVerticesCount = g.V().has('ztf4', 'name', 'ztf4').both().count().toList()[0]\n",
    "    # Finding the vertices connected to 'ztf4' node\n",
    "    connectedVertices = g.V().has('ztf4', 'name', 'ztf4').both().valueMap().toList()\n",
    "    file.write(\"Vertices connected to ztf4  -> {}\\n\".format(connectedVerticesCount))\n",
    "    file.write(\"The vertices are \")\n",
    "    for vertex in connectedVertices:\n",
    "        file.write(\"{} \".format(vertex['name'][0]))\n",
    "        \n",
    "        \n",
    "    file.write(\"\\n\\n\")    \n",
    "    file.write(\"*\"*40)\n",
    "    file.write(\"\\n\\n\")\n",
    "    \n",
    "    file.write(\"QUERY 4:\\n\")\n",
    "    \n",
    "    # Getting a subgraph in gremlin-python wasn't straight forward like it would have been in pure gremlin\n",
    "    # So a workaround was used here, which gets the edges and vertices connected to the 'unknown' node\n",
    "    # A gremlin solution \"g.V().has('unknown', 'name', 'unknown').bothE().subgraph('subgraph').outV().bothE().subgraph(\n",
    "    # 'subgraph').cap('subgraph').next()\" can be used for a simple subgraph retrieval\n",
    "    # A solution using connecting to the client and submitting a query to the gremlin server and retrieving just the\n",
    "    # the result was considered, but I also read somewhere that that isn't recommended, if this solution isn't\n",
    "    # up to the mark, that solution can also be used\n",
    "    subGraph = g.V().has('unknown', 'name', 'unknown').bothE().otherV().as_(\n",
    "    'vertex2').bothE().dedup().project('v', 'IN', 'OUT').by(\n",
    "        __.valueMap(True)).by(__.inV().label().fold()).by(\n",
    "        __.outV().label().fold()).toList()\n",
    "    # dedup has been used because of the presence of parallel edges\n",
    "    # valueMap along with chained by clauses have been used to output \n",
    "    # the source and destination of the edge\n",
    "    \n",
    "    file.write(\"Nodes and edges in subgraph:\\n\")\n",
    "    \n",
    "#     properties = []\n",
    "    \n",
    "#     for node in subGraph:\n",
    "#         print(node)\n",
    "    for node in subGraph:\n",
    "        file.write(\"{} {} {}\\n\".format(node['OUT'][0], node['v']['type'],\n",
    "                                      node['IN'][0]))"
   ]
  }
 ],
 "metadata": {
  "kernelspec": {
   "display_name": "Python 3",
   "language": "python",
   "name": "python3"
  },
  "language_info": {
   "codemirror_mode": {
    "name": "ipython",
    "version": 3
   },
   "file_extension": ".py",
   "mimetype": "text/x-python",
   "name": "python",
   "nbconvert_exporter": "python",
   "pygments_lexer": "ipython3",
   "version": "3.7.3"
  }
 },
 "nbformat": 4,
 "nbformat_minor": 2
}
